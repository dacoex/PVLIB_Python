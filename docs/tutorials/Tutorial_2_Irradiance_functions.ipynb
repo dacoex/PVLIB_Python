{
 "metadata": {
  "name": "",
  "signature": "sha256:cba263c864cb9e13312c07d4ad32637066cb68eaf59db290a21bbdf01410a514"
 },
 "nbformat": 3,
 "nbformat_minor": 0,
 "worksheets": [
  {
   "cells": [
    {
     "cell_type": "heading",
     "level": 1,
     "metadata": {},
     "source": [
      "Time series to irradiance tutorial"
     ]
    },
    {
     "cell_type": "code",
     "collapsed": false,
     "input": [
      "%matplotlib inline\n",
      "import sys\n",
      "import os\n",
      "sys.path.append(os.path.realpath('../../')) #append the parent directory to the system path\n",
      "import pvlib\n",
      "reload(pvlib)\n",
      "import pandas as pd \n",
      "import matplotlib.pyplot as plt\n",
      "try:\n",
      "    import seaborn\n",
      "    seaborn.set_context('paper')\n",
      "except ImportError:\n",
      "    pass"
     ],
     "language": "python",
     "metadata": {},
     "outputs": [],
     "prompt_number": 1
    },
    {
     "cell_type": "code",
     "collapsed": false,
     "input": [
      "datapath = os.path.join(pvlib.__path__[0], 'test', 'data')\n",
      "fname = '703165TY.csv' #Use absolute path if the file is not in the local directory\n",
      "TMY, meta = pvlib.tmy.readtmy3(filename=os.path.join(datapath, fname))\n",
      "TMY.index.name = 'Time'\n",
      "meta['SurfTilt'] = 30\n",
      "meta['SurfAz'] = 0\n",
      "meta['Albedo'] = 0.2\n",
      "\n",
      "# create pvlib Location object\n",
      "sand_point = pvlib.location.Location(meta['latitude'], meta['longitude'], tz='US/Alaska', \n",
      "                                     altitude=meta['altitude'], name=meta['Name'].replace('\"',''))\n",
      "print(sand_point)\n",
      "\n",
      "# TMY data seems to be given as hourly data with time stamp at the end\n",
      "# shift the index 30 Minutes back for calculation of sun postions\n",
      "TMY = TMY.shift(freq='-30Min')"
     ],
     "language": "python",
     "metadata": {},
     "outputs": [
      {
       "output_type": "stream",
       "stream": "stdout",
       "text": [
        "SAND POINT: latitude=55.317, longitude=-160.517, tz=US/Alaska, altitude=7.0\n"
       ]
      }
     ],
     "prompt_number": 2
    },
    {
     "cell_type": "code",
     "collapsed": false,
     "input": [
      "meta"
     ],
     "language": "python",
     "metadata": {},
     "outputs": [
      {
       "metadata": {},
       "output_type": "pyout",
       "prompt_number": 3,
       "text": [
        "{'Albedo': 0.2,\n",
        " 'Name': '\"SAND POINT\"',\n",
        " 'State': 'AK',\n",
        " 'SurfAz': 0,\n",
        " 'SurfTilt': 30,\n",
        " 'TZ': -9.0,\n",
        " 'USAF': 703165,\n",
        " 'altitude': 7.0,\n",
        " 'latitude': 55.317,\n",
        " 'longitude': -160.517}"
       ]
      }
     ],
     "prompt_number": 3
    },
    {
     "cell_type": "heading",
     "level": 1,
     "metadata": {},
     "source": [
      "Retreive required parameters"
     ]
    },
    {
     "cell_type": "markdown",
     "metadata": {},
     "source": [
      "Calculate the solar position for all times in the TMY file. Requires either PyEphem or a compiled spa_c library."
     ]
    },
    {
     "cell_type": "code",
     "collapsed": false,
     "input": [
      "solpos = pvlib.solarposition.get_solarposition(TMY.index, sand_point, method='pyephem')\n",
      "solposspa = pvlib.solarposition.get_solarposition(TMY.index, sand_point, method='spa')\n"
     ],
     "language": "python",
     "metadata": {},
     "outputs": [],
     "prompt_number": 4
    },
    {
     "cell_type": "code",
     "collapsed": false,
     "input": [
      "# append solar position data to TMY DataFrame\n",
      "TMY['SunAz'] = solpos['azimuth']\n",
      "TMY['SunZen'] =  solpos['zenith']\n",
      "TMY['SunZen'][TMY['SunZen']>90]=np.NaN\n",
      "TMY['HExtra'] = pvlib.irradiance.extraradiation(doy=TMY.index.dayofyear)\n",
      "\n",
      "TMY['AM'] = pvlib.atmosphere.relativeairmass(z=TMY.SunZen)\n",
      "\n",
      "DFOut = pvlib.clearsky.disc(Time=TMY.index,GHI=TMY.GHI, SunZen=TMY.SunZen)\n",
      "\n",
      "TMY['DNI_gen_DISC'] = DFOut['DNI_gen_DISC']\n",
      "TMY['Kt_gen_DISC'] = DFOut['Kt_gen_DISC']\n",
      "TMY['AM'] = DFOut['AM']\n",
      "TMY['Ztemp'] = DFOut['Ztemp']"
     ],
     "language": "python",
     "metadata": {},
     "outputs": [],
     "prompt_number": 5
    },
    {
     "cell_type": "heading",
     "level": 1,
     "metadata": {},
     "source": [
      "Perez"
     ]
    },
    {
     "cell_type": "code",
     "collapsed": false,
     "input": [
      "models = ['Perez', 'Hay-Davies', 'Isotropic', 'King', 'Klucher', 'Reindl']\n",
      "TMY['Perez'] = pvlib.irradiance.perez(SurfTilt=meta['SurfTilt'],\n",
      "                               SurfAz=meta['SurfAz'],\n",
      "                               DHI=TMY.DHI,\n",
      "                               DNI=TMY.DNI,\n",
      "                               HExtra=TMY.HExtra,\n",
      "                               SunZen=TMY.SunZen,\n",
      "                               SunAz=TMY.SunAz,\n",
      "                               AM=TMY.AM)"
     ],
     "language": "python",
     "metadata": {},
     "outputs": [],
     "prompt_number": 6
    },
    {
     "cell_type": "heading",
     "level": 2,
     "metadata": {},
     "source": [
      "HayDavies"
     ]
    },
    {
     "cell_type": "code",
     "collapsed": false,
     "input": [
      "TMY['Hay-Davies'] = pvlib.irradiance.haydavies1980(SurfTilt=meta['SurfTilt'],\n",
      "                                            SurfAz=meta['SurfAz'],\n",
      "                                            DHI=TMY.DHI,\n",
      "                                            DNI=TMY.DNI,\n",
      "                                            HExtra=TMY.HExtra,\n",
      "                                            SunZen=TMY.SunZen,\n",
      "                                            SunAz=TMY.SunAz)                                "
     ],
     "language": "python",
     "metadata": {},
     "outputs": [],
     "prompt_number": 7
    },
    {
     "cell_type": "heading",
     "level": 2,
     "metadata": {},
     "source": [
      "Isotropic"
     ]
    },
    {
     "cell_type": "code",
     "collapsed": false,
     "input": [
      "TMY['Isotropic'] = pvlib.irradiance.isotropicsky(SurfTilt=meta['SurfTilt'],\n",
      "                                          DHI=TMY.DHI)"
     ],
     "language": "python",
     "metadata": {},
     "outputs": [],
     "prompt_number": 8
    },
    {
     "cell_type": "heading",
     "level": 2,
     "metadata": {},
     "source": [
      "King Diffuse model"
     ]
    },
    {
     "cell_type": "code",
     "collapsed": false,
     "input": [
      "TMY['King'] = pvlib.irradiance.kingdiffuse(SurfTilt=meta['SurfTilt'],\n",
      "                                    DHI=TMY.DHI,\n",
      "                                    GHI=TMY.GHI,\n",
      "                                    SunZen=TMY.SunZen)"
     ],
     "language": "python",
     "metadata": {},
     "outputs": [],
     "prompt_number": 9
    },
    {
     "cell_type": "heading",
     "level": 2,
     "metadata": {},
     "source": [
      "Klucher Model"
     ]
    },
    {
     "cell_type": "code",
     "collapsed": false,
     "input": [
      "TMY['Klucher'] = pvlib.irradiance.klucher1979(SurfTilt=meta['SurfTilt'],\n",
      "                                       SurfAz=meta['SurfAz'],\n",
      "                                       DHI=TMY.DHI,\n",
      "                                       GHI=TMY.GHI,\n",
      "                                       SunZen=TMY.SunZen,\n",
      "                                       SunAz=TMY.SunAz)                                "
     ],
     "language": "python",
     "metadata": {},
     "outputs": [],
     "prompt_number": 10
    },
    {
     "cell_type": "heading",
     "level": 2,
     "metadata": {},
     "source": [
      "Reindl"
     ]
    },
    {
     "cell_type": "code",
     "collapsed": false,
     "input": [
      "TMY['Reindl'] = pvlib.irradiance.reindl1990(SurfTilt=meta['SurfTilt'],\n",
      "                                     SurfAz=meta['SurfAz'],\n",
      "                                     DHI=TMY.DHI,\n",
      "                                     DNI=TMY.DNI,\n",
      "                                     GHI=TMY.GHI,\n",
      "                                     HExtra=TMY.HExtra,\n",
      "                                     SunZen=TMY.SunZen,\n",
      "                                     SunAz=TMY.SunAz)"
     ],
     "language": "python",
     "metadata": {},
     "outputs": [],
     "prompt_number": 11
    },
    {
     "cell_type": "code",
     "collapsed": false,
     "input": [
      "yearly = TMY[models].resample('A', how='sum').squeeze() / 1000.0  # kWh\n",
      "monthly = TMY[models].resample('M', how='sum', kind='period') / 1000.0\n",
      "daily = TMY[models].resample('D', how='sum') / 1000.0"
     ],
     "language": "python",
     "metadata": {},
     "outputs": [],
     "prompt_number": 12
    },
    {
     "cell_type": "heading",
     "level": 2,
     "metadata": {},
     "source": [
      "Plot Results"
     ]
    },
    {
     "cell_type": "code",
     "collapsed": false,
     "input": [
      "ax = TMY[models].plot(title='Modelled in-plane diffuse irradiance')\n",
      "# ax.legend(ncol=3, loc='upper center', title='In-plane diffuse irradiance')\n",
      "ax.set_ylim(0, 800)\n",
      "ylabel = ax.set_ylabel('Diffuse Irradiance [W]')"
     ],
     "language": "python",
     "metadata": {},
     "outputs": [
      {
       "metadata": {},
       "output_type": "display_data",
       "png": "[encoded data removed]",
       "text": [
        "<matplotlib.figure.Figure at 0x10f947710>"
       ]
      }
     ],
     "prompt_number": 13
    },
    {
     "cell_type": "code",
     "collapsed": false,
     "input": [
      "TMY[models].describe()"
     ],
     "language": "python",
     "metadata": {},
     "outputs": [
      {
       "html": [
        "<div style=\"max-height:1000px;max-width:1500px;overflow:auto;\">\n",
        "<table border=\"1\" class=\"dataframe\">\n",
        "  <thead>\n",
        "    <tr style=\"text-align: right;\">\n",
        "      <th></th>\n",
        "      <th>Perez</th>\n",
        "      <th>Hay-Davies</th>\n",
        "      <th>Isotropic</th>\n",
        "      <th>King</th>\n",
        "      <th>Klucher</th>\n",
        "      <th>Reindl</th>\n",
        "    </tr>\n",
        "  </thead>\n",
        "  <tbody>\n",
        "    <tr>\n",
        "      <th>count</th>\n",
        "      <td> 4408.000000</td>\n",
        "      <td> 8760.000000</td>\n",
        "      <td> 8760.000000</td>\n",
        "      <td> 4408.000000</td>\n",
        "      <td> 4408.000000</td>\n",
        "      <td> 4408.000000</td>\n",
        "    </tr>\n",
        "    <tr>\n",
        "      <th>mean</th>\n",
        "      <td>   89.686545</td>\n",
        "      <td>   46.508175</td>\n",
        "      <td>   49.094681</td>\n",
        "      <td>  105.400119</td>\n",
        "      <td>   99.463966</td>\n",
        "      <td>   92.779779</td>\n",
        "    </tr>\n",
        "    <tr>\n",
        "      <th>std</th>\n",
        "      <td>   66.441612</td>\n",
        "      <td>   69.242437</td>\n",
        "      <td>   72.134083</td>\n",
        "      <td>   77.907604</td>\n",
        "      <td>   76.180526</td>\n",
        "      <td>   73.091935</td>\n",
        "    </tr>\n",
        "    <tr>\n",
        "      <th>min</th>\n",
        "      <td>    1.866025</td>\n",
        "      <td>    0.000000</td>\n",
        "      <td>    0.000000</td>\n",
        "      <td>    2.004284</td>\n",
        "      <td>    1.866025</td>\n",
        "      <td>    1.866025</td>\n",
        "    </tr>\n",
        "    <tr>\n",
        "      <th>25%</th>\n",
        "      <td>   37.236715</td>\n",
        "      <td>    0.000000</td>\n",
        "      <td>    0.000000</td>\n",
        "      <td>   44.409901</td>\n",
        "      <td>   39.956790</td>\n",
        "      <td>   35.845763</td>\n",
        "    </tr>\n",
        "    <tr>\n",
        "      <th>50%</th>\n",
        "      <td>   73.428750</td>\n",
        "      <td>    3.732051</td>\n",
        "      <td>    3.732051</td>\n",
        "      <td>   91.315171</td>\n",
        "      <td>   82.609957</td>\n",
        "      <td>   72.774991</td>\n",
        "    </tr>\n",
        "    <tr>\n",
        "      <th>75%</th>\n",
        "      <td>  130.596148</td>\n",
        "      <td>   72.774991</td>\n",
        "      <td>   81.172105</td>\n",
        "      <td>  150.122928</td>\n",
        "      <td>  142.750943</td>\n",
        "      <td>  135.905240</td>\n",
        "    </tr>\n",
        "    <tr>\n",
        "      <th>max</th>\n",
        "      <td>  436.970094</td>\n",
        "      <td>  509.556035</td>\n",
        "      <td>  523.420126</td>\n",
        "      <td>  538.827924</td>\n",
        "      <td>  529.220479</td>\n",
        "      <td>  512.423729</td>\n",
        "    </tr>\n",
        "  </tbody>\n",
        "</table>\n",
        "<p>8 rows \u00d7 6 columns</p>\n",
        "</div>"
       ],
       "metadata": {},
       "output_type": "pyout",
       "prompt_number": 14,
       "text": [
        "             Perez   Hay-Davies    Isotropic         King      Klucher  \\\n",
        "count  4408.000000  8760.000000  8760.000000  4408.000000  4408.000000   \n",
        "mean     89.686545    46.508175    49.094681   105.400119    99.463966   \n",
        "std      66.441612    69.242437    72.134083    77.907604    76.180526   \n",
        "min       1.866025     0.000000     0.000000     2.004284     1.866025   \n",
        "25%      37.236715     0.000000     0.000000    44.409901    39.956790   \n",
        "50%      73.428750     3.732051     3.732051    91.315171    82.609957   \n",
        "75%     130.596148    72.774991    81.172105   150.122928   142.750943   \n",
        "max     436.970094   509.556035   523.420126   538.827924   529.220479   \n",
        "\n",
        "            Reindl  \n",
        "count  4408.000000  \n",
        "mean     92.779779  \n",
        "std      73.091935  \n",
        "min       1.866025  \n",
        "25%      35.845763  \n",
        "50%      72.774991  \n",
        "75%     135.905240  \n",
        "max     512.423729  \n",
        "\n",
        "[8 rows x 6 columns]"
       ]
      }
     ],
     "prompt_number": 14
    },
    {
     "cell_type": "code",
     "collapsed": false,
     "input": [
      "TMY[models].dropna().plot(kind='density')"
     ],
     "language": "python",
     "metadata": {},
     "outputs": [
      {
       "metadata": {},
       "output_type": "pyout",
       "prompt_number": 15,
       "text": [
        "<matplotlib.axes._subplots.AxesSubplot at 0x113042b10>"
       ]
      },
      {
       "metadata": {},
       "output_type": "display_data",
       "png": "[encoded data removed]",
       "text": [
        "<matplotlib.figure.Figure at 0x113042b50>"
       ]
      }
     ],
     "prompt_number": 15
    },
    {
     "cell_type": "code",
     "collapsed": false,
     "input": [
      "ax_monthly = monthly[models].plot(title='Monthly diffuse irradiation', kind='bar')\n",
      "ylabel = ax_monthly.set_ylabel('Irradiation [kWh]')"
     ],
     "language": "python",
     "metadata": {},
     "outputs": [
      {
       "metadata": {},
       "output_type": "display_data",
       "png": "[encoded data removed]",
       "text": [
        "<matplotlib.figure.Figure at 0x10d90eb10>"
       ]
      }
     ],
     "prompt_number": 16
    },
    {
     "cell_type": "code",
     "collapsed": false,
     "input": [
      "yearly.ix[1].plot(kind='barh')"
     ],
     "language": "python",
     "metadata": {},
     "outputs": [
      {
       "metadata": {},
       "output_type": "pyout",
       "prompt_number": 17,
       "text": [
        "<matplotlib.axes._subplots.AxesSubplot at 0x114097110>"
       ]
      },
      {
       "metadata": {},
       "output_type": "display_data",
       "png": "[encoded data removed]",
       "text": [
        "<matplotlib.figure.Figure at 0x1130a51d0>"
       ]
      }
     ],
     "prompt_number": 17
    },
    {
     "cell_type": "heading",
     "level": 3,
     "metadata": {},
     "source": [
      "Compute the mean deviation from average for each model and display as a function of the model"
     ]
    },
    {
     "cell_type": "code",
     "collapsed": false,
     "input": [
      "mean_yearly = yearly.ix[1].mean()\n",
      "yearly_mean_deviation = (yearly.ix[1] - mean_yearly) / yearly.ix[1] * 100.0\n",
      "yearly_mean_deviation.plot(kind='bar')"
     ],
     "language": "python",
     "metadata": {},
     "outputs": [
      {
       "metadata": {},
       "output_type": "pyout",
       "prompt_number": 18,
       "text": [
        "<matplotlib.axes._subplots.AxesSubplot at 0x1147f4d50>"
       ]
      },
      {
       "metadata": {},
       "output_type": "display_data",
       "png": "[encoded data removed]",
       "text": [
        "<matplotlib.figure.Figure at 0x1148160d0>"
       ]
      }
     ],
     "prompt_number": 18
    },
    {
     "cell_type": "code",
     "collapsed": false,
     "input": [],
     "language": "python",
     "metadata": {},
     "outputs": [],
     "prompt_number": 18
    },
    {
     "cell_type": "code",
     "collapsed": false,
     "input": [],
     "language": "python",
     "metadata": {},
     "outputs": [],
     "prompt_number": 18
    },
    {
     "cell_type": "code",
     "collapsed": false,
     "input": [],
     "language": "python",
     "metadata": {},
     "outputs": []
    }
   ],
   "metadata": {}
  }
 ]
}